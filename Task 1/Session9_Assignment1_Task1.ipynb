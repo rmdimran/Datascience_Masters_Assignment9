{
 "cells": [
  {
   "cell_type": "markdown",
   "metadata": {},
   "source": [
    "# TASK 1"
   ]
  },
  {
   "cell_type": "code",
   "execution_count": 11,
   "metadata": {},
   "outputs": [
    {
     "name": "stdout",
     "output_type": "stream",
     "text": [
      "--------- Calculation using Custom Methods ---------\n",
      "\n",
      "Mean is     : 1158.3333333333333\n",
      "variance is : 112847.22222222223\n",
      "Standard Deviation is : 335.92740617910624\n",
      " \n",
      "\n",
      "-- Calculation using in-build Statistics Library--\n",
      "\n",
      "Mean is : 1158.3333333333333\n",
      "variance is : 135416.66666666666\n",
      "Standard Deviation is : 367.9900360969936\n",
      "------------------------------------------------------ \n"
     ]
    }
   ],
   "source": [
    "\"\"\"1.You survey households in your area to find the average rent they are paying. Find the\n",
    "standard deviation from the following data:\n",
    "$1550, $1700, $900, $850, $1000, $950\n",
    "\"\"\"\n",
    "import math\n",
    "from math import sqrt\n",
    "import statistics as st\n",
    "\n",
    "#define function for finding mean\n",
    "def find_mean(data):\n",
    "    return sum(data)/len(data)\n",
    "\n",
    "#define function for finding variace\n",
    "def find_variance(data):\n",
    "    mean = find_mean(data)\n",
    "    variance = sum(((x-mean)**2) for x in data)/len(data)-1\n",
    "    return variance\n",
    "\n",
    "#function for finding standar deviation\n",
    "def std_dev(data):\n",
    "    return math.sqrt(find_variance(data))\n",
    "\n",
    "#rents in USD\n",
    "data = [1550, 1700, 900, 850, 1000, 950]\n",
    "\n",
    "\n",
    "print ( \"--------- Calculation using Custom Methods ---------\" )\n",
    "print ( \"\" )\n",
    "print ( \"Mean is     : \" + str(find_mean(data)))\n",
    "print ( \"variance is : \" + str(find_variance(data)))\n",
    "print ( \"Standard Deviation is : \" + str(std_dev(data)))\n",
    "print ( \" \")\n",
    "print ( \"\" )\n",
    "print ( \"-- Calculation using in-build Statistics Library--\")\n",
    "print ( \"\" )\n",
    "print ( \"Mean is : \" + str(st.mean(data)))\n",
    "print ( \"variance is : \" + str(st.variance(data)))\n",
    "print ( \"Standard Deviation is : \" + str(st.stdev(data)))\n",
    "print ( \"------------------------------------------------------ \")\n",
    "\n"
   ]
  },
  {
   "cell_type": "code",
   "execution_count": 9,
   "metadata": {},
   "outputs": [
    {
     "name": "stdout",
     "output_type": "stream",
     "text": [
      "---------- Calculation using Custom Method ----------\n",
      "\n",
      "variance is : 5182.25\n",
      " \n",
      "\n",
      "-- Calculation using in-build Statistics library --\n",
      "\n",
      "variance is : 6219.9\n",
      "------------------------------------------------------ \n"
     ]
    }
   ],
   "source": [
    "\"\"\" 2. Find the variance for the following set of data representing trees in California (heights in\n",
    "feet):\n",
    "3, 21, 98, 203, 17, 9 \"\"\"\n",
    "\n",
    "#heights in feet\n",
    "heights = [3, 21, 98, 203, 17, 9]\n",
    "\n",
    "\n",
    "print ( \"---------- Calculation using Custom Method ----------\" )\n",
    "print ( \"\" )\n",
    "\n",
    "print ( \"variance is : \" + str(find_variance(heights)))\n",
    "\n",
    "print ( \" \")\n",
    "print ( \"\" )\n",
    "print ( \"-- Calculation using in-build Statistics library --\")\n",
    "print ( \"\" )\n",
    "\n",
    "print ( \"variance is : \" + str(st.variance(heights)))\n",
    "\n",
    "print ( \"------------------------------------------------------ \")\n",
    "\n"
   ]
  },
  {
   "cell_type": "code",
   "execution_count": 1,
   "metadata": {},
   "outputs": [
    {
     "name": "stdout",
     "output_type": "stream",
     "text": [
      "The probability distribution for a random student :\n",
      " --------------------------------------------------\n",
      "P(X=0) = 0.8\n",
      "P(X=1) = 0.1\n",
      "P(X=2) = 0.07\n",
      "P(X=3) = 0.03\n"
     ]
    }
   ],
   "source": [
    "\"\"\" 3. In a class on 100 students, 80 students passed in all subjects, 10 failed in one subject, 7 failed\n",
    "in two subjects and 3 failed in three subjects. Find the probability distribution of the variable for\n",
    "number of subjects a student from the given class has failed in.\"\"\"\n",
    "\n",
    "#Total number of students : n = 100\n",
    "#Probability of students failing in 0 subjects : P(x = 0) : 80 / 100 --> 0.8\n",
    "#Probability of students failing in 1 subjects : P(x = 1) : 10 / 100 --> 0.1\n",
    "#Probability of students failing in 2 subjects : P(x = 2) : 7 / 100  --> 0.7\n",
    "#Probability of students failing in 3 subjects : P(x = 3) : 3 / 100  --> 0.3\n",
    "\n",
    "\n",
    "data = [80,10,7,3]\n",
    "sample_space = 100\n",
    "def event_probability(event_outcomes, sample_space):\n",
    "        probability = (event_outcomes / sample_space)\n",
    "        return round(probability,2)\n",
    "    \n",
    "print(\"The probability distribution for a random student :\\n\",\"-\"*50)\n",
    "for i in data:\n",
    "    print(\"P(X={}) = {}\".format(data.index(i),event_probability(i,sample_space)))\n"
   ]
  },
  {
   "cell_type": "code",
   "execution_count": null,
   "metadata": {},
   "outputs": [],
   "source": []
  }
 ],
 "metadata": {
  "kernelspec": {
   "display_name": "Python 3",
   "language": "python",
   "name": "python3"
  },
  "language_info": {
   "codemirror_mode": {
    "name": "ipython",
    "version": 3
   },
   "file_extension": ".py",
   "mimetype": "text/x-python",
   "name": "python",
   "nbconvert_exporter": "python",
   "pygments_lexer": "ipython3",
   "version": "3.6.5"
  }
 },
 "nbformat": 4,
 "nbformat_minor": 2
}
