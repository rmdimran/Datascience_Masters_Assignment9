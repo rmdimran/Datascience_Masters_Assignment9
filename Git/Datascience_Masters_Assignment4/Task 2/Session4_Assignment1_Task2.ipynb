{
 "cells": [
  {
   "cell_type": "markdown",
   "metadata": {},
   "source": [
    "# Assignment 1 - Task 2"
   ]
  },
  {
   "cell_type": "code",
   "execution_count": 1,
   "metadata": {},
   "outputs": [
    {
     "data": {
      "text/plain": [
       "0    1.0\n",
       "1    2.0\n",
       "2    0.0\n",
       "3    1.0\n",
       "4    2.0\n",
       "5    3.0\n",
       "6    4.0\n",
       "7    0.0\n",
       "8    1.0\n",
       "9    2.0\n",
       "Name: Y, dtype: float64"
      ]
     },
     "execution_count": 1,
     "metadata": {},
     "output_type": "execute_result"
    }
   ],
   "source": [
    "\"\"\" \n",
    "1.\n",
    "How-to-count-distance-to-the-previous-zero\n",
    "For each value, count the difference back to the previous zero (or the start of the Series,\n",
    "whichever is closer)\n",
    "create a new column 'Y'\n",
    "Consider a DataFrame df where there is an integer column 'X'\n",
    "import pandas as pd\n",
    "df = pd.DataFrame({'X': [7, 2, 0, 3, 4, 2, 5, 0, 3, 4]})\n",
    "\n",
    "\"\"\"\n",
    "\n",
    "import pandas as pd\n",
    "import numpy as np\n",
    "df = pd.DataFrame({'X': [7, 2, 0, 3, 4, 2, 5, 0, 3, 4]})\n",
    "x = (df['X'] != 0).cumsum()\n",
    "y = x != x.shift()\n",
    "df['Y'] = y.groupby((y != y.shift()).cumsum()).cumsum()\n",
    "df['Y']\n"
   ]
  },
  {
   "cell_type": "code",
   "execution_count": 2,
   "metadata": {},
   "outputs": [
    {
     "data": {
      "text/plain": [
       "2015-01-01    0.200278\n",
       "2015-01-02    0.424407\n",
       "2015-01-05    0.430431\n",
       "2015-01-06    0.782503\n",
       "2015-01-07    0.617859\n",
       "2015-01-08    0.902095\n",
       "2015-01-09    0.965210\n",
       "2015-01-12    0.120887\n",
       "2015-01-13    0.576069\n",
       "2015-01-14    0.367669\n",
       "2015-01-15    0.050519\n",
       "2015-01-16    0.193345\n",
       "2015-01-19    0.768331\n",
       "2015-01-20    0.602643\n",
       "2015-01-21    0.915505\n",
       "2015-01-22    0.183738\n",
       "2015-01-23    0.378218\n",
       "2015-01-26    0.851677\n",
       "2015-01-27    0.705541\n",
       "2015-01-28    0.445875\n",
       "2015-01-29    0.143986\n",
       "2015-01-30    0.532188\n",
       "2015-02-02    0.411309\n",
       "2015-02-03    0.429133\n",
       "2015-02-04    0.252413\n",
       "2015-02-05    0.800581\n",
       "2015-02-06    0.053640\n",
       "2015-02-09    0.273928\n",
       "2015-02-10    0.062552\n",
       "2015-02-11    0.335594\n",
       "                ...   \n",
       "2015-11-20    0.791352\n",
       "2015-11-23    0.813163\n",
       "2015-11-24    0.244300\n",
       "2015-11-25    0.495757\n",
       "2015-11-26    0.571748\n",
       "2015-11-27    0.448319\n",
       "2015-11-30    0.187544\n",
       "2015-12-01    0.145611\n",
       "2015-12-02    0.984453\n",
       "2015-12-03    0.860893\n",
       "2015-12-04    0.109161\n",
       "2015-12-07    0.900836\n",
       "2015-12-08    0.281551\n",
       "2015-12-09    0.823234\n",
       "2015-12-10    0.004371\n",
       "2015-12-11    0.293425\n",
       "2015-12-14    0.107256\n",
       "2015-12-15    0.948034\n",
       "2015-12-16    0.233076\n",
       "2015-12-17    0.464539\n",
       "2015-12-18    0.942250\n",
       "2015-12-21    0.193723\n",
       "2015-12-22    0.804820\n",
       "2015-12-23    0.208745\n",
       "2015-12-24    0.458643\n",
       "2015-12-25    0.396061\n",
       "2015-12-28    0.618109\n",
       "2015-12-29    0.568563\n",
       "2015-12-30    0.108854\n",
       "2015-12-31    0.102767\n",
       "Freq: B, Length: 261, dtype: float64"
      ]
     },
     "execution_count": 2,
     "metadata": {},
     "output_type": "execute_result"
    }
   ],
   "source": [
    "\"\"\" 2.\n",
    "Create a DatetimeIndex that contains each business day of 2015 and use it to index a Series of\n",
    "random numbers.\"\"\"\n",
    "\n",
    "import numpy as np\n",
    "dtindex = pd.date_range(start='2015-01-01', end='2015-12-31', freq='B')\n",
    "sr = pd.Series(np.random.rand(len(dtindex)), index=dtindex)\n",
    "sr"
   ]
  },
  {
   "cell_type": "code",
   "execution_count": 3,
   "metadata": {},
   "outputs": [
    {
     "data": {
      "text/plain": [
       "25.87787544034327"
      ]
     },
     "execution_count": 3,
     "metadata": {},
     "output_type": "execute_result"
    }
   ],
   "source": [
    "\"\"\"3.\n",
    "Find the sum of the values in s for every Wednesday\"\"\"\n",
    "sr[dtindex.weekday == 2].sum()"
   ]
  },
  {
   "cell_type": "code",
   "execution_count": 6,
   "metadata": {},
   "outputs": [
    {
     "data": {
      "text/plain": [
       "2015-01-31    0.507226\n",
       "2015-02-28    0.435454\n",
       "2015-03-31    0.410276\n",
       "2015-04-30    0.555517\n",
       "2015-05-31    0.506996\n",
       "2015-06-30    0.535786\n",
       "2015-07-31    0.573005\n",
       "2015-08-31    0.396546\n",
       "2015-09-30    0.473210\n",
       "2015-10-31    0.513005\n",
       "2015-11-30    0.594399\n",
       "2015-12-31    0.459086\n",
       "Freq: M, dtype: float64"
      ]
     },
     "execution_count": 6,
     "metadata": {},
     "output_type": "execute_result"
    }
   ],
   "source": [
    "\"\"\" 4.\n",
    "Average For each calendar month \"\"\"\n",
    "\n",
    "sr.resample('M').mean()"
   ]
  },
  {
   "cell_type": "code",
   "execution_count": 7,
   "metadata": {},
   "outputs": [
    {
     "data": {
      "text/plain": [
       "2015-01-31   2015-01-09\n",
       "2015-05-31   2015-04-17\n",
       "2015-09-30   2015-07-16\n",
       "2016-01-31   2015-11-19\n",
       "dtype: datetime64[ns]"
      ]
     },
     "execution_count": 7,
     "metadata": {},
     "output_type": "execute_result"
    }
   ],
   "source": [
    "\"\"\"5.\n",
    "For each group of four consecutive calendar months in s, find the date on which the highest\n",
    "value occurred.  \"\"\"\n",
    "\n",
    "sr.groupby(pd.Grouper(freq='4M')).idxmax()"
   ]
  },
  {
   "cell_type": "code",
   "execution_count": null,
   "metadata": {},
   "outputs": [],
   "source": []
  }
 ],
 "metadata": {
  "kernelspec": {
   "display_name": "Python 3",
   "language": "python",
   "name": "python3"
  },
  "language_info": {
   "codemirror_mode": {
    "name": "ipython",
    "version": 3
   },
   "file_extension": ".py",
   "mimetype": "text/x-python",
   "name": "python",
   "nbconvert_exporter": "python",
   "pygments_lexer": "ipython3",
   "version": "3.6.5"
  }
 },
 "nbformat": 4,
 "nbformat_minor": 2
}
